{
 "cells": [
  {
   "cell_type": "code",
   "execution_count": 1,
   "id": "9f59eda8",
   "metadata": {},
   "outputs": [],
   "source": [
    "#import dependencies\n",
    "import matplotlib.pyplot as plt\n",
    "import pandas as pd\n",
    "import numpy as np\n",
    "import requests\n",
    "import time\n",
    "from scipy.stats import linregress\n",
    "import seaborn as sns\n",
    "import json\n",
    "from pprint import pprint"
   ]
  },
  {
   "cell_type": "code",
   "execution_count": 2,
   "id": "298bed99",
   "metadata": {},
   "outputs": [],
   "source": [
    "#import csv\n",
    "oscars_data = \"../the_oscar_award.csv\""
   ]
  },
  {
   "cell_type": "code",
   "execution_count": 3,
   "id": "74b2e328",
   "metadata": {
    "scrolled": true
   },
   "outputs": [
    {
     "data": {
      "text/html": [
       "<div>\n",
       "<style scoped>\n",
       "    .dataframe tbody tr th:only-of-type {\n",
       "        vertical-align: middle;\n",
       "    }\n",
       "\n",
       "    .dataframe tbody tr th {\n",
       "        vertical-align: top;\n",
       "    }\n",
       "\n",
       "    .dataframe thead th {\n",
       "        text-align: right;\n",
       "    }\n",
       "</style>\n",
       "<table border=\"1\" class=\"dataframe\">\n",
       "  <thead>\n",
       "    <tr style=\"text-align: right;\">\n",
       "      <th></th>\n",
       "      <th>year_film</th>\n",
       "      <th>year_ceremony</th>\n",
       "      <th>ceremony</th>\n",
       "      <th>category</th>\n",
       "      <th>name</th>\n",
       "      <th>film</th>\n",
       "      <th>winner</th>\n",
       "    </tr>\n",
       "  </thead>\n",
       "  <tbody>\n",
       "    <tr>\n",
       "      <th>0</th>\n",
       "      <td>1927</td>\n",
       "      <td>1928</td>\n",
       "      <td>1</td>\n",
       "      <td>ACTOR IN A LEADING ROLE</td>\n",
       "      <td>Richard Barthelmess</td>\n",
       "      <td>The Noose</td>\n",
       "      <td>False</td>\n",
       "    </tr>\n",
       "    <tr>\n",
       "      <th>1</th>\n",
       "      <td>1927</td>\n",
       "      <td>1928</td>\n",
       "      <td>1</td>\n",
       "      <td>ACTOR IN A LEADING ROLE</td>\n",
       "      <td>Emil Jannings</td>\n",
       "      <td>The Last Command</td>\n",
       "      <td>True</td>\n",
       "    </tr>\n",
       "    <tr>\n",
       "      <th>2</th>\n",
       "      <td>1927</td>\n",
       "      <td>1928</td>\n",
       "      <td>1</td>\n",
       "      <td>ACTRESS IN A LEADING ROLE</td>\n",
       "      <td>Louise Dresser</td>\n",
       "      <td>A Ship Comes In</td>\n",
       "      <td>False</td>\n",
       "    </tr>\n",
       "    <tr>\n",
       "      <th>3</th>\n",
       "      <td>1927</td>\n",
       "      <td>1928</td>\n",
       "      <td>1</td>\n",
       "      <td>ACTRESS IN A LEADING ROLE</td>\n",
       "      <td>Janet Gaynor</td>\n",
       "      <td>7th Heaven</td>\n",
       "      <td>True</td>\n",
       "    </tr>\n",
       "    <tr>\n",
       "      <th>4</th>\n",
       "      <td>1927</td>\n",
       "      <td>1928</td>\n",
       "      <td>1</td>\n",
       "      <td>ACTRESS IN A LEADING ROLE</td>\n",
       "      <td>Gloria Swanson</td>\n",
       "      <td>Sadie Thompson</td>\n",
       "      <td>False</td>\n",
       "    </tr>\n",
       "  </tbody>\n",
       "</table>\n",
       "</div>"
      ],
      "text/plain": [
       "   year_film  year_ceremony  ceremony                   category  \\\n",
       "0       1927           1928         1    ACTOR IN A LEADING ROLE   \n",
       "1       1927           1928         1    ACTOR IN A LEADING ROLE   \n",
       "2       1927           1928         1  ACTRESS IN A LEADING ROLE   \n",
       "3       1927           1928         1  ACTRESS IN A LEADING ROLE   \n",
       "4       1927           1928         1  ACTRESS IN A LEADING ROLE   \n",
       "\n",
       "                  name              film  winner  \n",
       "0  Richard Barthelmess         The Noose   False  \n",
       "1        Emil Jannings  The Last Command    True  \n",
       "2       Louise Dresser   A Ship Comes In   False  \n",
       "3         Janet Gaynor        7th Heaven    True  \n",
       "4       Gloria Swanson    Sadie Thompson   False  "
      ]
     },
     "execution_count": 3,
     "metadata": {},
     "output_type": "execute_result"
    }
   ],
   "source": [
    "#create dataframe\n",
    "oscars_data_df = pd.read_csv(oscars_data)\n",
    "oscars_data_df.head()"
   ]
  },
  {
   "cell_type": "code",
   "execution_count": 4,
   "id": "38cdde9f",
   "metadata": {},
   "outputs": [
    {
     "data": {
      "text/html": [
       "<div>\n",
       "<style scoped>\n",
       "    .dataframe tbody tr th:only-of-type {\n",
       "        vertical-align: middle;\n",
       "    }\n",
       "\n",
       "    .dataframe tbody tr th {\n",
       "        vertical-align: top;\n",
       "    }\n",
       "\n",
       "    .dataframe thead th {\n",
       "        text-align: right;\n",
       "    }\n",
       "</style>\n",
       "<table border=\"1\" class=\"dataframe\">\n",
       "  <thead>\n",
       "    <tr style=\"text-align: right;\">\n",
       "      <th></th>\n",
       "      <th>year_film</th>\n",
       "      <th>year_ceremony</th>\n",
       "      <th>ceremony</th>\n",
       "      <th>category</th>\n",
       "      <th>name</th>\n",
       "      <th>film</th>\n",
       "      <th>winner</th>\n",
       "    </tr>\n",
       "  </thead>\n",
       "  <tbody>\n",
       "    <tr>\n",
       "      <th>1</th>\n",
       "      <td>1927</td>\n",
       "      <td>1928</td>\n",
       "      <td>1</td>\n",
       "      <td>ACTOR IN A LEADING ROLE</td>\n",
       "      <td>Emil Jannings</td>\n",
       "      <td>The Last Command</td>\n",
       "      <td>True</td>\n",
       "    </tr>\n",
       "    <tr>\n",
       "      <th>3</th>\n",
       "      <td>1927</td>\n",
       "      <td>1928</td>\n",
       "      <td>1</td>\n",
       "      <td>ACTRESS IN A LEADING ROLE</td>\n",
       "      <td>Janet Gaynor</td>\n",
       "      <td>7th Heaven</td>\n",
       "      <td>True</td>\n",
       "    </tr>\n",
       "    <tr>\n",
       "      <th>6</th>\n",
       "      <td>1927</td>\n",
       "      <td>1928</td>\n",
       "      <td>1</td>\n",
       "      <td>ART DIRECTION</td>\n",
       "      <td>William Cameron Menzies</td>\n",
       "      <td>The Dove;</td>\n",
       "      <td>True</td>\n",
       "    </tr>\n",
       "    <tr>\n",
       "      <th>9</th>\n",
       "      <td>1927</td>\n",
       "      <td>1928</td>\n",
       "      <td>1</td>\n",
       "      <td>CINEMATOGRAPHY</td>\n",
       "      <td>Charles Rosher</td>\n",
       "      <td>Sunrise</td>\n",
       "      <td>True</td>\n",
       "    </tr>\n",
       "    <tr>\n",
       "      <th>10</th>\n",
       "      <td>1927</td>\n",
       "      <td>1928</td>\n",
       "      <td>1</td>\n",
       "      <td>CINEMATOGRAPHY</td>\n",
       "      <td>Karl Struss</td>\n",
       "      <td>Sunrise</td>\n",
       "      <td>True</td>\n",
       "    </tr>\n",
       "  </tbody>\n",
       "</table>\n",
       "</div>"
      ],
      "text/plain": [
       "    year_film  year_ceremony  ceremony                   category  \\\n",
       "1        1927           1928         1    ACTOR IN A LEADING ROLE   \n",
       "3        1927           1928         1  ACTRESS IN A LEADING ROLE   \n",
       "6        1927           1928         1              ART DIRECTION   \n",
       "9        1927           1928         1             CINEMATOGRAPHY   \n",
       "10       1927           1928         1             CINEMATOGRAPHY   \n",
       "\n",
       "                       name              film  winner  \n",
       "1             Emil Jannings  The Last Command    True  \n",
       "3              Janet Gaynor        7th Heaven    True  \n",
       "6   William Cameron Menzies         The Dove;    True  \n",
       "9            Charles Rosher           Sunrise    True  \n",
       "10              Karl Struss           Sunrise    True  "
      ]
     },
     "execution_count": 4,
     "metadata": {},
     "output_type": "execute_result"
    }
   ],
   "source": [
    "#find the winners\n",
    "oscars_data_df = oscars_data_df[oscars_data_df['winner'] == True] \n",
    "oscars_data_df.head()"
   ]
  },
  {
   "cell_type": "code",
   "execution_count": 5,
   "id": "5cd25250",
   "metadata": {},
   "outputs": [
    {
     "data": {
      "text/html": [
       "<div>\n",
       "<style scoped>\n",
       "    .dataframe tbody tr th:only-of-type {\n",
       "        vertical-align: middle;\n",
       "    }\n",
       "\n",
       "    .dataframe tbody tr th {\n",
       "        vertical-align: top;\n",
       "    }\n",
       "\n",
       "    .dataframe thead th {\n",
       "        text-align: right;\n",
       "    }\n",
       "</style>\n",
       "<table border=\"1\" class=\"dataframe\">\n",
       "  <thead>\n",
       "    <tr style=\"text-align: right;\">\n",
       "      <th></th>\n",
       "      <th>year_film</th>\n",
       "      <th>year_ceremony</th>\n",
       "      <th>ceremony</th>\n",
       "      <th>category</th>\n",
       "      <th>name</th>\n",
       "      <th>film</th>\n",
       "      <th>winner</th>\n",
       "    </tr>\n",
       "  </thead>\n",
       "  <tbody>\n",
       "    <tr>\n",
       "      <th>21</th>\n",
       "      <td>1927</td>\n",
       "      <td>1928</td>\n",
       "      <td>1</td>\n",
       "      <td>BEST PICTURE</td>\n",
       "      <td>Paramount Famous Lasky</td>\n",
       "      <td>Wings</td>\n",
       "      <td>True</td>\n",
       "    </tr>\n",
       "    <tr>\n",
       "      <th>64</th>\n",
       "      <td>1928</td>\n",
       "      <td>1929</td>\n",
       "      <td>2</td>\n",
       "      <td>BEST PICTURE</td>\n",
       "      <td>Metro-Goldwyn-Mayer</td>\n",
       "      <td>The Broadway Melody</td>\n",
       "      <td>True</td>\n",
       "    </tr>\n",
       "    <tr>\n",
       "      <th>100</th>\n",
       "      <td>1929</td>\n",
       "      <td>1930</td>\n",
       "      <td>3</td>\n",
       "      <td>BEST PICTURE</td>\n",
       "      <td>Universal</td>\n",
       "      <td>All Quiet on the Western Front</td>\n",
       "      <td>True</td>\n",
       "    </tr>\n",
       "    <tr>\n",
       "      <th>140</th>\n",
       "      <td>1930</td>\n",
       "      <td>1931</td>\n",
       "      <td>4</td>\n",
       "      <td>BEST PICTURE</td>\n",
       "      <td>RKO Radio</td>\n",
       "      <td>Cimarron</td>\n",
       "      <td>True</td>\n",
       "    </tr>\n",
       "    <tr>\n",
       "      <th>178</th>\n",
       "      <td>1931</td>\n",
       "      <td>1932</td>\n",
       "      <td>5</td>\n",
       "      <td>BEST PICTURE</td>\n",
       "      <td>Metro-Goldwyn-Mayer</td>\n",
       "      <td>Grand Hotel</td>\n",
       "      <td>True</td>\n",
       "    </tr>\n",
       "  </tbody>\n",
       "</table>\n",
       "</div>"
      ],
      "text/plain": [
       "     year_film  year_ceremony  ceremony      category                    name  \\\n",
       "21        1927           1928         1  BEST PICTURE  Paramount Famous Lasky   \n",
       "64        1928           1929         2  BEST PICTURE     Metro-Goldwyn-Mayer   \n",
       "100       1929           1930         3  BEST PICTURE               Universal   \n",
       "140       1930           1931         4  BEST PICTURE               RKO Radio   \n",
       "178       1931           1932         5  BEST PICTURE     Metro-Goldwyn-Mayer   \n",
       "\n",
       "                               film  winner  \n",
       "21                            Wings    True  \n",
       "64              The Broadway Melody    True  \n",
       "100  All Quiet on the Western Front    True  \n",
       "140                        Cimarron    True  \n",
       "178                     Grand Hotel    True  "
      ]
     },
     "execution_count": 5,
     "metadata": {},
     "output_type": "execute_result"
    }
   ],
   "source": [
    "#create dataframe of best picture winners\n",
    "oscars_data_best_picture_winners_df = oscars_data_df[oscars_data_df['category'] == 'BEST PICTURE']\n",
    "oscars_data_best_picture_winners_df.head()\n"
   ]
  },
  {
   "cell_type": "code",
   "execution_count": 6,
   "id": "b1baf344",
   "metadata": {},
   "outputs": [
    {
     "data": {
      "text/plain": [
       "{'Title': 'The Broadway Melody',\n",
       " 'Year': '1929',\n",
       " 'Rated': 'Passed',\n",
       " 'Released': '06 Jun 1929',\n",
       " 'Runtime': '100 min',\n",
       " 'Genre': 'Drama, Musical, Romance',\n",
       " 'Director': 'Harry Beaumont',\n",
       " 'Writer': 'Edmund Goulding (story), Norman Houston (dialogue), James Gleason (dialogue)',\n",
       " 'Actors': 'Charles King, Anita Page, Bessie Love',\n",
       " 'Plot': 'A pair of sisters from the vaudeville circuit try to make it big time on Broadway, but matters of the heart complicate the attempt.',\n",
       " 'Language': 'English',\n",
       " 'Country': 'USA',\n",
       " 'Awards': 'Won 1 Oscar. Another 2 nominations.',\n",
       " 'Poster': 'https://m.media-amazon.com/images/M/MV5BZmJlOWM4NDEtYmZmYS00MTIyLTgwYWMtMjFhYmNhZWU4ZmVmXkEyXkFqcGdeQXVyMDI2NDg0NQ@@._V1_SX300.jpg',\n",
       " 'Ratings': [{'Source': 'Internet Movie Database', 'Value': '5.7/10'},\n",
       "  {'Source': 'Rotten Tomatoes', 'Value': '33%'}],\n",
       " 'Metascore': 'N/A',\n",
       " 'imdbRating': '5.7',\n",
       " 'imdbVotes': '6,625',\n",
       " 'imdbID': 'tt0019729',\n",
       " 'Type': 'movie',\n",
       " 'DVD': '25 Feb 2017',\n",
       " 'BoxOffice': 'N/A',\n",
       " 'Production': 'Metro-Goldwyn-Mayer',\n",
       " 'Website': 'N/A',\n",
       " 'Response': 'True'}"
      ]
     },
     "execution_count": 6,
     "metadata": {},
     "output_type": "execute_result"
    }
   ],
   "source": [
    "#import API data from OMDb and run test film to identify fields\n",
    "\n",
    "from config import OMDb_api_key\n",
    "\n",
    "query_url = f\"http://www.omdbapi.com/?apikey={OMDb_api_key}&t=\"\n",
    "response = requests.get(query_url +\"The Broadway Melody\").json()\n",
    "response\n"
   ]
  },
  {
   "cell_type": "code",
   "execution_count": 7,
   "id": "bf1e0f35",
   "metadata": {},
   "outputs": [],
   "source": [
    "# create lists to hold reponse info     \n",
    "film_list = [] \n",
    "year_release_list = []       \n",
    "date_release_list = []     \n",
    "\n",
    "movies = oscars_data_best_picture_winners_df[\"film\"]\n",
    "years = oscars_data_best_picture_winners_df[\"year_film\"]"
   ]
  },
  {
   "cell_type": "code",
   "execution_count": 8,
   "id": "b0db00a8",
   "metadata": {},
   "outputs": [
    {
     "name": "stdout",
     "output_type": "stream",
     "text": [
      "Oscar_Winners\n",
      "-------------\n",
      "The Best Picture Winner for 1927 is Wings\n",
      "The Best Picture Winner for 1928 is The Broadway Melody\n",
      "The Best Picture Winner for 1929 is All Quiet on the Western Front\n",
      "The Best Picture Winner for 1930 is Cimarron\n",
      "The Best Picture Winner for 1931 is Grand Hotel\n",
      "The Best Picture Winner for 1932 is Cavalcade\n",
      "The Best Picture Winner for 1934 is It Happened One Night\n",
      "The Best Picture Winner for 1935 is Mutiny on the Bounty\n",
      "The Best Picture Winner for 1936 is The Great Ziegfeld\n",
      "The Best Picture Winner for 1937 is The Life of Emile Zola\n",
      "The Best Picture Winner for 1938 is You Can't Take It with You\n",
      "The Best Picture Winner for 1939 is Gone with the Wind\n",
      "The Best Picture Winner for 1940 is Rebecca\n",
      "The Best Picture Winner for 1941 is How Green Was My Valley\n",
      "The Best Picture Winner for 1942 is Mrs. Miniver\n",
      "The Best Picture Winner for 1943 is Casablanca\n",
      "The Best Picture Winner for 1944 is Going My Way\n",
      "The Best Picture Winner for 1945 is The Lost Weekend\n",
      "The Best Picture Winner for 1946 is The Best Years of Our Lives\n",
      "The Best Picture Winner for 1947 is Gentleman's Agreement\n",
      "The Best Picture Winner for 1948 is Hamlet\n",
      "The Best Picture Winner for 1949 is All the King's Men\n",
      "The Best Picture Winner for 1950 is All about Eve\n",
      "The Best Picture Winner for 1951 is An American in Paris\n",
      "The Best Picture Winner for 1952 is The Greatest Show on Earth\n",
      "The Best Picture Winner for 1953 is From Here to Eternity\n",
      "The Best Picture Winner for 1954 is On the Waterfront\n",
      "The Best Picture Winner for 1955 is Marty\n",
      "The Best Picture Winner for 1956 is Around the World in 80 Days\n",
      "The Best Picture Winner for 1957 is The Bridge on the River Kwai\n",
      "The Best Picture Winner for 1958 is Gigi\n",
      "The Best Picture Winner for 1959 is Ben-Hur\n",
      "The Best Picture Winner for 1960 is The Apartment\n",
      "The Best Picture Winner for 1961 is West Side Story\n",
      "The Best Picture Winner for 1962 is Lawrence of Arabia\n",
      "The Best Picture Winner for 1963 is Tom Jones\n",
      "The Best Picture Winner for 1964 is My Fair Lady\n",
      "The Best Picture Winner for 1965 is The Sound of Music\n",
      "The Best Picture Winner for 1966 is A Man for All Seasons\n",
      "The Best Picture Winner for 1967 is In the Heat of the Night\n",
      "The Best Picture Winner for 1968 is Oliver!\n",
      "The Best Picture Winner for 1969 is Midnight Cowboy\n",
      "The Best Picture Winner for 1970 is Patton\n",
      "The Best Picture Winner for 1971 is The French Connection\n",
      "The Best Picture Winner for 1972 is The Godfather\n",
      "The Best Picture Winner for 1973 is The Sting\n",
      "The Best Picture Winner for 1974 is The Godfather Part II\n",
      "The Best Picture Winner for 1975 is One Flew over the Cuckoo's Nest\n",
      "The Best Picture Winner for 1976 is Rocky\n",
      "The Best Picture Winner for 1977 is Annie Hall\n",
      "The Best Picture Winner for 1978 is The Deer Hunter\n",
      "The Best Picture Winner for 1979 is Kramer vs. Kramer\n",
      "The Best Picture Winner for 1980 is Ordinary People\n",
      "The Best Picture Winner for 1981 is Chariots of Fire\n",
      "The Best Picture Winner for 1982 is Gandhi\n",
      "The Best Picture Winner for 1983 is Terms of Endearment\n",
      "The Best Picture Winner for 1984 is Amadeus\n",
      "The Best Picture Winner for 1985 is Out of Africa\n",
      "The Best Picture Winner for 1986 is Platoon\n",
      "The Best Picture Winner for 1987 is The Last Emperor\n",
      "The Best Picture Winner for 1988 is Rain Man\n",
      "The Best Picture Winner for 1989 is Driving Miss Daisy\n",
      "The Best Picture Winner for 1990 is Dances With Wolves\n",
      "The Best Picture Winner for 1991 is The Silence of the Lambs\n",
      "The Best Picture Winner for 1992 is Unforgiven\n",
      "The Best Picture Winner for 1993 is Schindler's List\n",
      "The Best Picture Winner for 1994 is Forrest Gump\n",
      "The Best Picture Winner for 1995 is Braveheart\n",
      "The Best Picture Winner for 1996 is The English Patient\n",
      "The Best Picture Winner for 1997 is Titanic\n",
      "The Best Picture Winner for 1998 is Shakespeare in Love\n",
      "The Best Picture Winner for 1999 is American Beauty\n",
      "The Best Picture Winner for 2000 is Gladiator\n",
      "The Best Picture Winner for 2001 is A Beautiful Mind\n",
      "The Best Picture Winner for 2002 is Chicago\n",
      "The Best Picture Winner for 2003 is The Lord of the Rings: The Return of the King\n",
      "The Best Picture Winner for 2004 is Million Dollar Baby\n",
      "The Best Picture Winner for 2005 is Crash\n",
      "The Best Picture Winner for 2006 is The Departed\n",
      "The Best Picture Winner for 2007 is No Country for Old Men\n",
      "The Best Picture Winner for 2008 is Slumdog Millionaire\n",
      "The Best Picture Winner for 2009 is The Hurt Locker\n",
      "The Best Picture Winner for 2010 is The King's Speech\n",
      "The Best Picture Winner for 2011 is The Artist\n",
      "The Best Picture Winner for 2012 is Argo\n",
      "The Best Picture Winner for 2013 is 12 Years a Slave\n",
      "The Best Picture Winner for 2014 is Birdman or (The Unexpected Virtue of Ignorance)\n",
      "The Best Picture Winner for 2015 is Spotlight\n",
      "The Best Picture Winner for 2016 is Moonlight\n",
      "The Best Picture Winner for 2017 is The Shape of Water\n",
      "The Best Picture Winner for 2018 is Green Book\n",
      "The Best Picture Winner for 2019 is Parasite\n"
     ]
    }
   ],
   "source": [
    "#create list of movies and release years\n",
    "\n",
    "print(\"Oscar_Winners\")\n",
    "print (\"-------------\")\n",
    "counter = 1\n",
    "nb_tries = 10\n",
    "\n",
    "for movie,year in zip(movies,years):\n",
    "    \n",
    "    #print(movie,year)\n",
    "    movie_url = query_url + movie.replace(' ','+')\n",
    "    response = requests.get(movie_url)\n",
    "    #response\n",
    "    print(f'The Best Picture Winner for {year} is {movie}')\n",
    "    \n",
    "    try:\n",
    "        response.raise_for_status()\n",
    "        data = response.json()\n",
    "        film_list.append(data['Title'])\n",
    "        year_release_list.append(data['Year'])\n",
    "        date_release_list.append(data['Released'])\n",
    "    except requests.exceptions.HTTPError as e:\n",
    "        print('Movie not found. Move to next...')"
   ]
  },
  {
   "cell_type": "code",
   "execution_count": 9,
   "id": "da8d2967",
   "metadata": {},
   "outputs": [],
   "source": [
    "#confirm lists created\n",
    "#print(film_list)"
   ]
  },
  {
   "cell_type": "code",
   "execution_count": 10,
   "id": "348ce9ef",
   "metadata": {},
   "outputs": [],
   "source": [
    "#print(year_release_list)"
   ]
  },
  {
   "cell_type": "code",
   "execution_count": 11,
   "id": "77acfb63",
   "metadata": {},
   "outputs": [],
   "source": [
    "#print(date_release_list)"
   ]
  },
  {
   "cell_type": "code",
   "execution_count": 12,
   "id": "3905ebb4",
   "metadata": {
    "scrolled": true
   },
   "outputs": [
    {
     "data": {
      "text/html": [
       "<div>\n",
       "<style scoped>\n",
       "    .dataframe tbody tr th:only-of-type {\n",
       "        vertical-align: middle;\n",
       "    }\n",
       "\n",
       "    .dataframe tbody tr th {\n",
       "        vertical-align: top;\n",
       "    }\n",
       "\n",
       "    .dataframe thead th {\n",
       "        text-align: right;\n",
       "    }\n",
       "</style>\n",
       "<table border=\"1\" class=\"dataframe\">\n",
       "  <thead>\n",
       "    <tr style=\"text-align: right;\">\n",
       "      <th></th>\n",
       "      <th>Movie Title</th>\n",
       "      <th>Year Released</th>\n",
       "      <th>Date Released</th>\n",
       "    </tr>\n",
       "  </thead>\n",
       "  <tbody>\n",
       "    <tr>\n",
       "      <th>0</th>\n",
       "      <td>Wings</td>\n",
       "      <td>1927</td>\n",
       "      <td>05 Jan 1929</td>\n",
       "    </tr>\n",
       "    <tr>\n",
       "      <th>1</th>\n",
       "      <td>The Broadway Melody</td>\n",
       "      <td>1929</td>\n",
       "      <td>06 Jun 1929</td>\n",
       "    </tr>\n",
       "    <tr>\n",
       "      <th>2</th>\n",
       "      <td>All Quiet on the Western Front</td>\n",
       "      <td>1930</td>\n",
       "      <td>24 Aug 1930</td>\n",
       "    </tr>\n",
       "    <tr>\n",
       "      <th>3</th>\n",
       "      <td>Cimarron</td>\n",
       "      <td>1931</td>\n",
       "      <td>09 Feb 1931</td>\n",
       "    </tr>\n",
       "    <tr>\n",
       "      <th>4</th>\n",
       "      <td>Grand Hotel</td>\n",
       "      <td>1932</td>\n",
       "      <td>11 Sep 1932</td>\n",
       "    </tr>\n",
       "  </tbody>\n",
       "</table>\n",
       "</div>"
      ],
      "text/plain": [
       "                      Movie Title Year Released Date Released\n",
       "0                           Wings          1927   05 Jan 1929\n",
       "1             The Broadway Melody          1929   06 Jun 1929\n",
       "2  All Quiet on the Western Front          1930   24 Aug 1930\n",
       "3                        Cimarron          1931   09 Feb 1931\n",
       "4                     Grand Hotel          1932   11 Sep 1932"
      ]
     },
     "execution_count": 12,
     "metadata": {},
     "output_type": "execute_result"
    }
   ],
   "source": [
    "#create dataframe with Title and release date\n",
    "Oscar_Release_Date_df = pd.DataFrame({\n",
    "    'Movie Title' : film_list,\n",
    "    'Year Released' : year_release_list,\n",
    "    'Date Released' : date_release_list,\n",
    "})\n",
    "Oscar_Release_Date_df.head()"
   ]
  },
  {
   "cell_type": "code",
   "execution_count": 13,
   "id": "28a56b2f",
   "metadata": {},
   "outputs": [],
   "source": [
    "#use datetime to convert months to date\n",
    "import datetime\n",
    "import calendar"
   ]
  },
  {
   "cell_type": "code",
   "execution_count": 14,
   "id": "e3005ced",
   "metadata": {},
   "outputs": [
    {
     "data": {
      "text/html": [
       "<div>\n",
       "<style scoped>\n",
       "    .dataframe tbody tr th:only-of-type {\n",
       "        vertical-align: middle;\n",
       "    }\n",
       "\n",
       "    .dataframe tbody tr th {\n",
       "        vertical-align: top;\n",
       "    }\n",
       "\n",
       "    .dataframe thead th {\n",
       "        text-align: right;\n",
       "    }\n",
       "</style>\n",
       "<table border=\"1\" class=\"dataframe\">\n",
       "  <thead>\n",
       "    <tr style=\"text-align: right;\">\n",
       "      <th></th>\n",
       "      <th>Movie Title</th>\n",
       "      <th>Year Released</th>\n",
       "      <th>Date Released</th>\n",
       "      <th>Month_of_Release</th>\n",
       "    </tr>\n",
       "  </thead>\n",
       "  <tbody>\n",
       "    <tr>\n",
       "      <th>0</th>\n",
       "      <td>Wings</td>\n",
       "      <td>1927</td>\n",
       "      <td>1929-01-05</td>\n",
       "      <td>1</td>\n",
       "    </tr>\n",
       "    <tr>\n",
       "      <th>1</th>\n",
       "      <td>The Broadway Melody</td>\n",
       "      <td>1929</td>\n",
       "      <td>1929-06-06</td>\n",
       "      <td>6</td>\n",
       "    </tr>\n",
       "    <tr>\n",
       "      <th>2</th>\n",
       "      <td>All Quiet on the Western Front</td>\n",
       "      <td>1930</td>\n",
       "      <td>1930-08-24</td>\n",
       "      <td>8</td>\n",
       "    </tr>\n",
       "    <tr>\n",
       "      <th>3</th>\n",
       "      <td>Cimarron</td>\n",
       "      <td>1931</td>\n",
       "      <td>1931-02-09</td>\n",
       "      <td>2</td>\n",
       "    </tr>\n",
       "    <tr>\n",
       "      <th>4</th>\n",
       "      <td>Grand Hotel</td>\n",
       "      <td>1932</td>\n",
       "      <td>1932-09-11</td>\n",
       "      <td>9</td>\n",
       "    </tr>\n",
       "  </tbody>\n",
       "</table>\n",
       "</div>"
      ],
      "text/plain": [
       "                      Movie Title Year Released Date Released  \\\n",
       "0                           Wings          1927    1929-01-05   \n",
       "1             The Broadway Melody          1929    1929-06-06   \n",
       "2  All Quiet on the Western Front          1930    1930-08-24   \n",
       "3                        Cimarron          1931    1931-02-09   \n",
       "4                     Grand Hotel          1932    1932-09-11   \n",
       "\n",
       "   Month_of_Release  \n",
       "0                 1  \n",
       "1                 6  \n",
       "2                 8  \n",
       "3                 2  \n",
       "4                 9  "
      ]
     },
     "execution_count": 14,
     "metadata": {},
     "output_type": "execute_result"
    }
   ],
   "source": [
    "# add column for numnerical month released\n",
    "Oscar_Release_Date_df[\"Date Released\"] = pd.to_datetime(Oscar_Release_Date_df[\"Date Released\"], format='%d %b %Y')\n",
    "Oscar_Release_Date_df['Month_of_Release'] = Oscar_Release_Date_df['Date Released'].dt.month\n",
    "Oscar_Release_Date_df.head()"
   ]
  },
  {
   "cell_type": "code",
   "execution_count": 15,
   "id": "c570c9bf",
   "metadata": {},
   "outputs": [
    {
     "data": {
      "text/html": [
       "<div>\n",
       "<style scoped>\n",
       "    .dataframe tbody tr th:only-of-type {\n",
       "        vertical-align: middle;\n",
       "    }\n",
       "\n",
       "    .dataframe tbody tr th {\n",
       "        vertical-align: top;\n",
       "    }\n",
       "\n",
       "    .dataframe thead th {\n",
       "        text-align: right;\n",
       "    }\n",
       "</style>\n",
       "<table border=\"1\" class=\"dataframe\">\n",
       "  <thead>\n",
       "    <tr style=\"text-align: right;\">\n",
       "      <th></th>\n",
       "      <th>Movie Title</th>\n",
       "      <th>Year Released</th>\n",
       "      <th>Date Released</th>\n",
       "      <th>Month_of_Release</th>\n",
       "      <th>Quarter_Released</th>\n",
       "      <th>Year_Released</th>\n",
       "    </tr>\n",
       "  </thead>\n",
       "  <tbody>\n",
       "    <tr>\n",
       "      <th>0</th>\n",
       "      <td>Wings</td>\n",
       "      <td>1927</td>\n",
       "      <td>1929-01-05</td>\n",
       "      <td>Jan</td>\n",
       "      <td>1</td>\n",
       "      <td>1929</td>\n",
       "    </tr>\n",
       "    <tr>\n",
       "      <th>1</th>\n",
       "      <td>The Broadway Melody</td>\n",
       "      <td>1929</td>\n",
       "      <td>1929-06-06</td>\n",
       "      <td>Jun</td>\n",
       "      <td>2</td>\n",
       "      <td>1929</td>\n",
       "    </tr>\n",
       "    <tr>\n",
       "      <th>2</th>\n",
       "      <td>All Quiet on the Western Front</td>\n",
       "      <td>1930</td>\n",
       "      <td>1930-08-24</td>\n",
       "      <td>Aug</td>\n",
       "      <td>3</td>\n",
       "      <td>1930</td>\n",
       "    </tr>\n",
       "    <tr>\n",
       "      <th>3</th>\n",
       "      <td>Cimarron</td>\n",
       "      <td>1931</td>\n",
       "      <td>1931-02-09</td>\n",
       "      <td>Feb</td>\n",
       "      <td>1</td>\n",
       "      <td>1931</td>\n",
       "    </tr>\n",
       "    <tr>\n",
       "      <th>4</th>\n",
       "      <td>Grand Hotel</td>\n",
       "      <td>1932</td>\n",
       "      <td>1932-09-11</td>\n",
       "      <td>Sep</td>\n",
       "      <td>3</td>\n",
       "      <td>1932</td>\n",
       "    </tr>\n",
       "  </tbody>\n",
       "</table>\n",
       "</div>"
      ],
      "text/plain": [
       "                      Movie Title Year Released Date Released  \\\n",
       "0                           Wings          1927    1929-01-05   \n",
       "1             The Broadway Melody          1929    1929-06-06   \n",
       "2  All Quiet on the Western Front          1930    1930-08-24   \n",
       "3                        Cimarron          1931    1931-02-09   \n",
       "4                     Grand Hotel          1932    1932-09-11   \n",
       "\n",
       "  Month_of_Release  Quarter_Released  Year_Released  \n",
       "0              Jan                 1           1929  \n",
       "1              Jun                 2           1929  \n",
       "2              Aug                 3           1930  \n",
       "3              Feb                 1           1931  \n",
       "4              Sep                 3           1932  "
      ]
     },
     "execution_count": 15,
     "metadata": {},
     "output_type": "execute_result"
    }
   ],
   "source": [
    "#add quarter released\n",
    "Oscar_Release_Date_df['Quarter_Released']  = Oscar_Release_Date_df['Date Released'].dt.quarter\n",
    "Oscar_Release_Date_df['Year_Released']  = Oscar_Release_Date_df['Date Released'].dt.year\n",
    "Oscar_Release_Date_df['Month_of_Release'] = pd.to_datetime(Oscar_Release_Date_df['Month_of_Release'], format='%m').dt.month_name().str.slice(stop=3)\n",
    "\n",
    "Oscar_Release_Date_df.head()"
   ]
  },
  {
   "cell_type": "code",
   "execution_count": 16,
   "id": "d54b2db6",
   "metadata": {},
   "outputs": [
    {
     "data": {
      "text/plain": [
       "Index(['Movie Title', 'Year Released', 'Date Released', 'Month_of_Release',\n",
       "       'Quarter_Released', 'Year_Released'],\n",
       "      dtype='object')"
      ]
     },
     "execution_count": 16,
     "metadata": {},
     "output_type": "execute_result"
    }
   ],
   "source": [
    "\n",
    "Oscar_Release_Date_df.columns"
   ]
  },
  {
   "cell_type": "code",
   "execution_count": 17,
   "id": "014d7c34",
   "metadata": {},
   "outputs": [],
   "source": [
    "#make copy for checkpoint\n",
    "Oscar_Release_Date_df2 = Oscar_Release_Date_df[['Movie Title', 'Date Released', 'Month_of_Release',  'Quarter_Released', 'Year_Released']].copy()"
   ]
  },
  {
   "cell_type": "code",
   "execution_count": 18,
   "id": "f1d2e9df",
   "metadata": {},
   "outputs": [
    {
     "data": {
      "text/plain": [
       "Movie Title                 object\n",
       "Date Released       datetime64[ns]\n",
       "Month_of_Release            object\n",
       "Quarter_Released             int64\n",
       "Year_Released                int64\n",
       "dtype: object"
      ]
     },
     "execution_count": 18,
     "metadata": {},
     "output_type": "execute_result"
    }
   ],
   "source": [
    "#check df types\n",
    "Oscar_Release_Date_df2.dtypes"
   ]
  },
  {
   "cell_type": "code",
   "execution_count": 19,
   "id": "0a20c57f",
   "metadata": {},
   "outputs": [],
   "source": [
    "#change data to int for graph\n",
    "#Oscar_Release_Date_df2[\"Month_of_Release\"] =pd.to_numeric(Oscar_Release_Date_df[\"Month_of_Release\"])\n",
    "\n",
    "#Oscar_Release_Date_df2.dtypes"
   ]
  },
  {
   "cell_type": "code",
   "execution_count": 20,
   "id": "d6f55863",
   "metadata": {},
   "outputs": [
    {
     "data": {
      "image/png": "[encoded data removed]",
      "text/plain": [
       "<Figure size 432x288 with 1 Axes>"
      ]
     },
     "metadata": {},
     "output_type": "display_data"
    },
    {
     "data": {
      "image/png": "[encoded data removed]",
      "text/plain": [
       "<Figure size 432x288 with 1 Axes>"
      ]
     },
     "metadata": {},
     "output_type": "display_data"
    }
   ],
   "source": [
    "#create pie and donut plot for Winners by Quarter\n",
    "\n",
    "df1 = Oscar_Release_Date_df2[\"Quarter_Released\"].value_counts().reset_index()\n",
    "colors = ['lightgreen', 'darkviolet', 'cyan', 'lightcoral']\n",
    "index = ('Q1', 'Q2', 'Q3', 'Q4')\n",
    "plt.pie(data=df1,x='Quarter_Released',labels='index', autopct='%.1f%%', explode=(0.1,0,0,0), shadow=True, startangle=180, colors = colors)\n",
    "plt.axis('equal')\n",
    "plt.title('Movie Winners by Quarter')\n",
    "plt.legend()\n",
    "plt.show()\n",
    "\n",
    "df1 = Oscar_Release_Date_df2[\"Quarter_Released\"].value_counts().reset_index()\n",
    "colors = ['lightgreen', 'darkviolet', 'cyan', 'lightcoral']\n",
    "index = ('Q1', 'Q2', 'Q3', 'Q4')\n",
    "plt.pie(data=df1,x='Quarter_Released',labels='index', autopct='%.1f%%', explode=(0.1,0,0,0), shadow=True, startangle=180, colors = colors)\n",
    "plt.axis('equal')\n",
    "my_circle=plt.Circle( (0,0), 0.7, color='lightpink')\n",
    "p=plt.gcf()\n",
    "p.gca().add_artist(my_circle)\n",
    "plt.title('Movie Winners by Quarter')\n",
    "plt.legend()\n",
    "plt.show()"
   ]
  },
  {
   "cell_type": "code",
   "execution_count": 42,
   "id": "0741dbd2",
   "metadata": {},
   "outputs": [
    {
     "data": {
      "image/png": "[encoded data removed]",
      "text/plain": [
       "<Figure size 1080x1080 with 1 Axes>"
      ]
     },
     "metadata": {
      "needs_background": "light"
     },
     "output_type": "display_data"
    }
   ],
   "source": [
    "Oscar_Release_Date_df2.plot.scatter(x=\"Quarter_Released\", y=\"Year_Released\", xlim = (0, 5), ylim= (1900, 2020), marker = 'd', edgecolor = \"pink\", grid = True, s = 100, figsize=(15,15))\n",
    "\n",
    "plt.title('Winners by Quarters Released')\n",
    "#plt.savefig(\"WinnersByQuarters.png\")\n",
    "plt.show()"
   ]
  },
  {
   "cell_type": "code",
   "execution_count": 39,
   "id": "61d58049",
   "metadata": {},
   "outputs": [
    {
     "data": {
      "image/png": "[encoded data removed]",
      "text/plain": [
       "<Figure size 1080x1080 with 1 Axes>"
      ]
     },
     "metadata": {
      "needs_background": "light"
     },
     "output_type": "display_data"
    }
   ],
   "source": [
    "Oscar_Release_Date_df2.plot.scatter(x=\"Month_of_Release\", y=\"Year_Released\", xlim = (1, 12), ylim= (1900, 2020), marker = 'd', edgecolor = \"pink\", grid = True, s = 100, figsize=(15,15))\n",
    "\n",
    "plt.title('Winners by Months Released')\n",
    "#plt.savefig(\"WinnersByMonths.png\")\n",
    "plt.show()"
   ]
  },
  {
   "cell_type": "code",
   "execution_count": 52,
   "id": "c3d256a8",
   "metadata": {},
   "outputs": [],
   "source": [
    "Oscar_Release_Date_df3 = Oscar_Release_Date_df2['Year_Released'],['Month_of_Release'],['Movie Title']\n",
    "\n"
   ]
  },
  {
   "cell_type": "code",
   "execution_count": 53,
   "id": "478f3335",
   "metadata": {},
   "outputs": [
    {
     "ename": "AttributeError",
     "evalue": "'tuple' object has no attribute 'plot'",
     "output_type": "error",
     "traceback": [
      "\u001b[1;31m---------------------------------------------------------------------------\u001b[0m",
      "\u001b[1;31mAttributeError\u001b[0m                            Traceback (most recent call last)",
      "\u001b[1;32m<ipython-input-53-8d67041c0c85>\u001b[0m in \u001b[0;36m<module>\u001b[1;34m\u001b[0m\n\u001b[1;32m----> 1\u001b[1;33m \u001b[0mplot_pandas\u001b[0m \u001b[1;33m=\u001b[0m \u001b[0mOscar_Release_Date_df3\u001b[0m\u001b[1;33m.\u001b[0m\u001b[0mplot\u001b[0m\u001b[1;33m.\u001b[0m\u001b[0mbar\u001b[0m\u001b[1;33m(\u001b[0m\u001b[0mfigsize\u001b[0m\u001b[1;33m=\u001b[0m\u001b[1;33m(\u001b[0m\u001b[1;36m20\u001b[0m\u001b[1;33m,\u001b[0m\u001b[1;36m15\u001b[0m\u001b[1;33m)\u001b[0m\u001b[1;33m,\u001b[0m \u001b[0mcolor\u001b[0m\u001b[1;33m=\u001b[0m \u001b[1;34m'c'\u001b[0m\u001b[1;33m,\u001b[0m\u001b[0mfontsize\u001b[0m \u001b[1;33m=\u001b[0m \u001b[1;36m12\u001b[0m\u001b[1;33m)\u001b[0m\u001b[1;33m\u001b[0m\u001b[1;33m\u001b[0m\u001b[0m\n\u001b[0m\u001b[0;32m      2\u001b[0m \u001b[0mplt\u001b[0m\u001b[1;33m.\u001b[0m\u001b[0mxlabel\u001b[0m\u001b[1;33m(\u001b[0m\u001b[1;34m\"Month_of_Release\"\u001b[0m\u001b[1;33m,\u001b[0m\u001b[0mfontsize\u001b[0m \u001b[1;33m=\u001b[0m \u001b[1;36m12\u001b[0m\u001b[1;33m)\u001b[0m\u001b[1;33m\u001b[0m\u001b[1;33m\u001b[0m\u001b[0m\n\u001b[0;32m      3\u001b[0m \u001b[0mplt\u001b[0m\u001b[1;33m.\u001b[0m\u001b[0mylabel\u001b[0m\u001b[1;33m(\u001b[0m\u001b[1;34m\"Year_Released\"\u001b[0m\u001b[1;33m,\u001b[0m\u001b[0mfontsize\u001b[0m \u001b[1;33m=\u001b[0m \u001b[1;36m12\u001b[0m\u001b[1;33m)\u001b[0m\u001b[1;33m\u001b[0m\u001b[1;33m\u001b[0m\u001b[0m\n\u001b[0;32m      4\u001b[0m \u001b[0mplt\u001b[0m\u001b[1;33m.\u001b[0m\u001b[0mtitle\u001b[0m\u001b[1;33m(\u001b[0m\u001b[1;34m\"Winners by Months Released\"\u001b[0m\u001b[1;33m,\u001b[0m\u001b[0mfontsize\u001b[0m \u001b[1;33m=\u001b[0m \u001b[1;36m18\u001b[0m\u001b[1;33m)\u001b[0m\u001b[1;33m\u001b[0m\u001b[1;33m\u001b[0m\u001b[0m\n\u001b[0;32m      5\u001b[0m \u001b[1;33m\u001b[0m\u001b[0m\n",
      "\u001b[1;31mAttributeError\u001b[0m: 'tuple' object has no attribute 'plot'"
     ]
    }
   ],
   "source": [
    "plot_pandas = Oscar_Release_Date_df3.plot.bar(figsize=(20,15), color= 'c',fontsize = 12)\n",
    "plt.xlabel(\"Month_of_Release\",fontsize = 12)\n",
    "plt.ylabel(\"Year_Released\",fontsize = 12)\n",
    "plt.title(\"Winners by Months Released\",fontsize = 18)\n",
    "\n",
    "plt.show()\n",
    "plt.tight_layout()"
   ]
  },
  {
   "cell_type": "code",
   "execution_count": null,
   "id": "f2021233",
   "metadata": {},
   "outputs": [],
   "source": []
  }
 ],
 "metadata": {
  "kernelspec": {
   "display_name": "Python 3",
   "language": "python",
   "name": "python3"
  },
  "language_info": {
   "codemirror_mode": {
    "name": "ipython",
    "version": 3
   },
   "file_extension": ".py",
   "mimetype": "text/x-python",
   "name": "python",
   "nbconvert_exporter": "python",
   "pygments_lexer": "ipython3",
   "version": "3.9.2"
  }
 },
 "nbformat": 4,
 "nbformat_minor": 5
}
