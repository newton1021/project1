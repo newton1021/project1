{
 "cells": [
  {
   "cell_type": "code",
   "execution_count": null,
   "metadata": {
    "scrolled": true
   },
   "outputs": [],
   "source": [
    "import pandas as pd\n",
    "import plotly\n",
    "import matplotlib.pyplot as plt\n",
    "import numpy as np\n",
    "import plotly.graph_objects as go\n",
    "pd.options.mode.chained_assignment = None\n",
    "from datetime import datetime\n",
    "from dateutil.relativedelta import relativedelta"
   ]
  },
  {
   "cell_type": "code",
   "execution_count": 10,
   "metadata": {},
   "outputs": [],
   "source": [
    "url_template = 'https://raw.githubusercontent.com/Hannan17-tyler/academy-awards/master/{}.csv'\n",
    "df_bestactress  = pd.read_csv(url_template.format('best-actress'))\n",
    "df_bestactor    = pd.read_csv(url_template.format('best-actor'))\n",
    "df_bestdirector = pd.read_csv(url_template.format('best-director'))\n",
    "df_ceremonies   = pd.read_csv(url_template.format('ceremonies'))"
   ]
  },
  {
   "cell_type": "code",
   "execution_count": 12,
   "metadata": {},
   "outputs": [
    {
     "ename": "IndentationError",
     "evalue": "unindent does not match any outer indentation level (<tokenize>, line 6)",
     "output_type": "error",
     "traceback": [
      "\u001b[1;36m  File \u001b[1;32m\"<tokenize>\"\u001b[1;36m, line \u001b[1;32m6\u001b[0m\n\u001b[1;33m    elif fmt == 'ymd':\u001b[0m\n\u001b[1;37m    ^\u001b[0m\n\u001b[1;31mIndentationError\u001b[0m\u001b[1;31m:\u001b[0m unindent does not match any outer indentation level\n"
     ]
    }
   ],
   "source": [
    "def get_ceremony_date(df_ceremonies, i):\n",
    "    return df_ceremonies.iloc[df_ceremonies[df_ceremonies['Ceremony'] == i].index[0]]['date_dt']\n",
    "def get_age(df_ceremonies, ceremony, birthdate, fmt='days'):\n",
    "    if fmt == 'days':\n",
    "        return (get_ceremony_date(df_ceremonies, ceremony) - birthdate).days\n",
    "    elif fmt == 'ymd':\n",
    "        rd = relativedelta(get_ceremony_date(df_ceremonies, ceremony), birthdate)\n",
    "        return '{}y{}m{}d'.format(rd.years, rd.months, rd.days)\n",
    "    elif fmt == 'ym':\n",
    "        rd = relativedelta(get_ceremony_date(df_ceremonies, ceremony), birthdate)\n",
    "        return '{}y{}m'.format(rd.years, rd.months)\n",
    "    elif fmt == 'float':\n",
    "        rd = relativedelta(get_ceremony_date(df_ceremonies, ceremony), birthdate)\n",
    "        return rd.years + (rd.months)/12.0 + (rd.days)/365.0"
   ]
  },
  {
   "cell_type": "code",
   "execution_count": null,
   "metadata": {},
   "outputs": [],
   "source": [
    "df_ceremonies['date_dt'] = pd.to_datetime(df_ceremonies['Date'].values, format='%B %d, %Y')\n",
    "df_ceremonies['year'] = df_ceremonies.apply(lambda row: row['date_dt'].year, axis=1).copy()\n",
    "for df in [df_bestactress, df_bestactor, df_bestdirector]:  \n",
    "    df['birthdate_dt'] = pd.to_datetime(df['Birthdate'].values, format='%B %d, %Y')\n",
    "    df['age_float'] = df.apply(lambda row: get_age(df_ceremonies, row['Ceremony'], row['birthdate_dt'], fmt='float'), axis=1)\n",
    "    df['age_ym'] = df.apply(lambda row: get_age(df_ceremonies, row['Ceremony'], row['birthdate_dt'], fmt='ym'), axis=1)\n",
    "xticks_pos, xticks_lab = list(range(1, len(df_ceremonies)+1, 3)), [\"'\" + str(x)[-2:] for x in df_ceremonies['year'][::3].values]"
   ]
  },
  {
   "cell_type": "code",
   "execution_count": null,
   "metadata": {},
   "outputs": [],
   "source": [
    "def process_df(df, title=''):\n",
    "    data = {}\n",
    "    data['nominees'] = df['Won'] == False\n",
    "    data['winners'] = df['Won'] == True\n",
    "    ages_per_ceremony = [df['age_float'][df['Ceremony']==i].values for i in range(1, len(df_ceremonies)+1)]\n",
    "    data['means'] = np.asarray([np.mean(x) for x in ages_per_ceremony])\n",
    "    data['medians'] = np.asarray([np.median(x) for x in ages_per_ceremony])\n",
    "    stds = np.asarray([np.std(x) for x in ages_per_ceremony])\n",
    "    df['color_nw'] = df.apply(lambda row: 'red' if row['Won'] else 'black', axis=1).copy()\n",
    "    data['hovertext'] = df.apply(lambda row: '{}, {} ({}, {})'.format(row['Name'], row['age_ym'], row['Film'], \n",
    "                                                    get_ceremony_date(df_ceremonies, row['Ceremony']).year), axis=1).copy()\n",
    "    data['df'] = df\n",
    "    data['title'] = title\n",
    "    return data"
   ]
  },
  {
   "cell_type": "code",
   "execution_count": null,
   "metadata": {},
   "outputs": [],
   "source": [
    "data_bestactress  = process_df(df_bestactress, title='Academy Award for Best Actress')\n",
    "data_bestactor    = process_df(df_bestactor, title='Academy Award for Best Actor')\n",
    "data_bestdirector = process_df(df_bestdirector, title='Academy Award for Best Director')"
   ]
  },
  {
   "cell_type": "code",
   "execution_count": null,
   "metadata": {},
   "outputs": [],
   "source": [
    "# Initialize figure\n",
    "fig = go.Figure()\n",
    "\n",
    "fig.update_layout(\n",
    "    autosize=False,\n",
    "    width=1100,\n",
    "    height=600\n",
    ")\n",
    "\n",
    "# Data dictionary for the default plot is placed first\n",
    "data_list = [data_bestdirector, data_bestactress, data_bestactor]\n",
    "toggle_active = [True, True, 'legendonly', 'legendonly']\n",
    "\n",
    "# Add Traces to figure\n",
    "for idx, data in enumerate(data_list):\n",
    "    vis = (True, 'legendonly') if idx is 0 else (False, False)\n",
    "    df, winners, nominees, hovertext = data['df'], data['winners'], data['nominees'], data['hovertext']\n",
    "    fig.add_trace(go.Scatter(x=df['Ceremony'][nominees], y=df['age_float'][nominees], mode='markers', visible=vis[0], \n",
    "    marker_color=df['color_nw'][nominees], hoverinfo=\"text\", hovertext=hovertext[nominees], name=\"Nominees\"))\n",
    "    fig.add_trace(go.Scatter(x=df['Ceremony'][winners], y=df['age_float'][winners], mode='markers', visible=vis[0], \n",
    "    marker_color=df['color_nw'][winners], hoverinfo=\"text\", hovertext=hovertext[winners], name=\"Winners\"))\n",
    "    fig.add_trace(go.Scatter(x=df_ceremonies['Ceremony'], y=data['medians'], marker_color='green', name=\"Medians\", hoverinfo='y', visible=vis[1]))\n",
    "    fig.add_trace(go.Scatter(x=df_ceremonies['Ceremony'], y=data['means'], marker_color='blue', name=\"Means\", hoverinfo='y', visible=vis[1]))\n",
    "    toggle_new = [False] * len(toggle_active) * len(data_list)\n",
    "    toggle_new[idx*len(toggle_active):(idx+1)*len(toggle_active)] = toggle_active\n",
    "    data['toggle'] = toggle_new\n",
    "\n",
    "# Set update rules for the dropdown button\n",
    "fig.update_layout(title_text=data_list[0]['title'])\n",
    "fig.update_layout(\n",
    "    updatemenus=[\n",
    "        go.layout.Updatemenu(\n",
    "            type = \"buttons\",\n",
    "            active=0,\n",
    "            buttons=list([\n",
    "                dict(label=\"Best Director\", method=\"update\",\n",
    "                     args=[{\"visible\": data_bestdirector['toggle']},\n",
    "                           {\"title\": data_bestdirector['title']}]),\n",
    "                dict(label=\"Best Actress\", method=\"update\",\n",
    "                     args=[{\"visible\": data_bestactress['toggle']},\n",
    "                           {\"title\": data_bestactress['title']}]),\n",
    "                dict(label=\"Best Actor\", method=\"update\",\n",
    "                     args=[{\"visible\": data_bestactor['toggle']},\n",
    "                           {\"title\": data_bestactor['title']}]),\n",
    "            ]),\n",
    "        )\n",
    "    ])\n",
    "\n",
    "# Set axes\n",
    "fig.update_yaxes(zeroline=False, title='Age', range=[0, 90])\n",
    "fig.update_xaxes(zeroline=False, title='Year', tickvals=xticks_pos, ticktext=xticks_lab)\n",
    "\n",
    "# Set marker styles\n",
    "fig.update_traces(marker=dict(size=5), selector=dict(mode='markers'))\n",
    "\n",
    "# Show figure\n",
    "fig.show()"
   ]
  },
  {
   "cell_type": "code",
   "execution_count": null,
   "metadata": {},
   "outputs": [],
   "source": [
    "plotly.offline.plot(fig, filename='academy-awards.html')"
   ]
  },
  {
   "cell_type": "code",
   "execution_count": null,
   "metadata": {},
   "outputs": [],
   "source": [
    "def plot_people(data, show_plot=True):\n",
    "    df, winners, nominees, hovertext = data['df'], data['winners'], data['nominees'], data['hovertext']\n",
    "    fig = go.Figure()\n",
    "    fig.add_trace(go.Scatter(x=df['Ceremony'][nominees], y=df['age_float'][nominees], \n",
    "                            mode='markers', marker_color=df['color_nw'][nominees], \n",
    "                            hoverinfo=\"text\", hovertext=hovertext[nominees], name=\"Nominees\"))\n",
    "    fig.add_trace(go.Scatter(x=df['Ceremony'][winners], y=df['age_float'][winners], \n",
    "                          mode='markers', marker_color=df['color_nw'][winners], \n",
    "                          hoverinfo=\"text\", hovertext=hovertext[winners], name=\"Winners\"))\n",
    "    fig.add_trace(go.Scatter(x=df_ceremonies['Ceremony'], y=data['medians'], marker_color='green', name=\"Medians\", hoverinfo='y', visible='legendonly'))\n",
    "    fig.add_trace(go.Scatter(x=df_ceremonies['Ceremony'], y=data['means'], marker_color='blue', name=\"Means\", hoverinfo='y', visible='legendonly'))\n",
    "    fig.update_layout(title=data['title'])\n",
    "    fig.update_yaxes(zeroline=False, title='Age')\n",
    "    fig.update_xaxes(zeroline=False, title='Year', tickvals=xticks_pos, ticktext=xticks_lab)\n",
    "    if show_plot is False:\n",
    "        return fig\n",
    "    fig.show()\n",
    "    return fig"
   ]
  },
  {
   "cell_type": "code",
   "execution_count": null,
   "metadata": {},
   "outputs": [],
   "source": [
    "# fig_bestactress  = plot_people(data_bestactress)\n",
    "# fig_bestactor    = plot_people(data_bestactor)\n",
    "# fig_bestdirector = plot_people(data_bestdirector)"
   ]
  },
  {
   "cell_type": "code",
   "execution_count": null,
   "metadata": {},
   "outputs": [],
   "source": [
    "# figs  = [fig_bestactress, fig_bestactor, fig_bestdirector]\n",
    "# divs  = [plotly.offline.plot(fig, include_plotlyjs=False, output_type='div') for fig in figs]\n",
    "# names = ['fig_bestactress', 'fig_bestactor', 'fig_bestdirector']\n",
    "# htmls = [plotly.offline.plot(fig, filename= name + '.html') for (fig, name) in zip(figs, names)]"
   ]
  },
  {
   "cell_type": "code",
   "execution_count": null,
   "metadata": {},
   "outputs": [],
   "source": [
    "#@title String fields\n",
    "name = 'Daniel Day-Lewis' #@param {type:\"string\"}\n",
    "dataset = 'Best Actor' #@param [\"Best Director\", \"Best Actress\", \"Best Actor\"]\n",
    "dfs = {'Best Director': df_bestdirector, 'Best Actress': df_bestactress, 'Best Actor': df_bestactor}\n",
    "df = dfs[dataset]"
   ]
  },
  {
   "cell_type": "code",
   "execution_count": null,
   "metadata": {},
   "outputs": [],
   "source": [
    "nominees = df['Won'] == False\n",
    "winners = df['Won'] == True\n",
    "ages_per_ceremony = [df['age_float'][df['Ceremony']==i].values for i in range(1, len(df_ceremonies)+1)]\n",
    "means = np.asarray([np.mean(x) for x in ages_per_ceremony])\n",
    "medians = np.asarray([np.median(x) for x in ages_per_ceremony])\n",
    "stds = np.asarray([np.std(x) for x in ages_per_ceremony])\n",
    "xticks_pos, xticks_lab = list(range(1, len(df_ceremonies)+1, 3)), [\"'\" + str(x)[-2:] for x in df_ceremonies['year'][::3].values]\n",
    "\n",
    "specifier = df['Name'] == name\n",
    "plt.figure(figsize=(19,6))\n",
    "plt.scatter(df['Ceremony'][nominees], df['age_float'][nominees], marker='.', c='k', label='Nominees')\n",
    "plt.scatter(df['Ceremony'][winners], df['age_float'][winners], marker='.', c='r', label='Winners')\n",
    "plt.plot(df['Ceremony'][specifier], df['age_float'][specifier], linestyle='--', c='k', label=name)\n",
    "plt.scatter(df['Ceremony'][nominees & specifier], df['age_float'][nominees & specifier], c='k', label='_nolegend_')\n",
    "plt.scatter(df['Ceremony'][winners & specifier], df['age_float'][winners & specifier], c='r', label='_nolegend_')\n",
    "plt.plot(df_ceremonies['Ceremony'], means, linestyle='-', c='b', alpha=0.3, label='Means')\n",
    "# plt.plot(df_ceremonies['Ceremony'], medians, linestyle='-', c='g', alpha=0.7, label='Medians')\n",
    "plt.fill_between(df_ceremonies['Ceremony'], means-stds, means+stds, color='b', alpha=0.1, label='Variances')\n",
    "plt.xticks(xticks_pos, xticks_lab)\n",
    "plt.grid(True)\n",
    "plt.ylabel('Age')\n",
    "plt.xlabel('Year')\n",
    "plt.legend(loc='upper left')\n",
    "plt.show()"
   ]
  },
  {
   "cell_type": "code",
   "execution_count": null,
   "metadata": {},
   "outputs": [],
   "source": [
    "female_dirs = ['Lina Wertmüller', 'Jane Campion', 'Sofia Coppola', 'Kathryn Bigelow', 'Greta Gerwig']\n",
    "females = df_bestdirector['Name'].isin(female_dirs)\n",
    "# df_bestdirector['color_mf'] = df_bestdirector.apply(lambda row: 'red' if row['Name'] in female_dirs else 'blue', axis=1).copy()\n",
    "xticks_pos, xticks_lab = list(range(1, len(df_ceremonies)+1, 3)), [\"'\" + str(x)[-2:] for x in df_ceremonies['year'][::3].values]\n",
    "\n",
    "plt.figure(figsize=(19,6))\n",
    "plt.scatter(df_bestdirector['Ceremony'][females], df_bestdirector['age_float'][females], c='r', label='Female directors')\n",
    "plt.scatter(df_bestdirector['Ceremony'][~females], df_bestdirector['age_float'][~females], marker='.', c='b', label='Male directors')\n",
    "plt.xticks(xticks_pos, xticks_lab)\n",
    "plt.grid(True)\n",
    "plt.ylabel('Age')\n",
    "plt.xlabel('Year')\n",
    "plt.legend(loc='upper left')\n",
    "plt.show()"
   ]
  }
 ],
 "metadata": {
  "kernelspec": {
   "display_name": "Python 3",
   "language": "python",
   "name": "python3"
  },
  "language_info": {
   "codemirror_mode": {
    "name": "ipython",
    "version": 3
   },
   "file_extension": ".py",
   "mimetype": "text/x-python",
   "name": "python",
   "nbconvert_exporter": "python",
   "pygments_lexer": "ipython3",
   "version": "3.8.5"
  }
 },
 "nbformat": 4,
 "nbformat_minor": 4
}
